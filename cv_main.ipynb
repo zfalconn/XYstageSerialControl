{
 "cells": [
  {
   "cell_type": "markdown",
   "metadata": {},
   "source": [
    "# Import Libraries"
   ]
  },
  {
   "cell_type": "code",
   "execution_count": 35,
   "metadata": {},
   "outputs": [],
   "source": [
    "# import the necessary packages\n",
    "from imutils import perspective\n",
    "from imutils import contours\n",
    "import numpy as np\n",
    "from matplotlib import pyplot as plt\n",
    "import imutils\n",
    "import cv2"
   ]
  },
  {
   "cell_type": "markdown",
   "metadata": {},
   "source": [
    "# Function Definition"
   ]
  },
  {
   "cell_type": "code",
   "execution_count": 36,
   "metadata": {},
   "outputs": [],
   "source": [
    "def showImgcv2(img):\n",
    "    try:\n",
    "\n",
    "        cv2.imshow(\"Image\", cv2.resize(img,(960,600))) \n",
    "        if cv2.waitKey(0) & 0xFF == ord('q'):\n",
    "            cv2.destroyAllWindows()\n",
    "    except Exception as e:\n",
    "        print(e)"
   ]
  },
  {
   "cell_type": "code",
   "execution_count": 37,
   "metadata": {},
   "outputs": [],
   "source": [
    "def showImgplt(img):\n",
    "    plt.figure(figsize = (15,15))\n",
    "    plt.imshow(img) "
   ]
  },
  {
   "cell_type": "code",
   "execution_count": 38,
   "metadata": {},
   "outputs": [],
   "source": [
    "from dataclasses import dataclass\n",
    "\n",
    "#Point contains xy coordinates of a point\n",
    "@dataclass\n",
    "class Point:\n",
    "    name: str\n",
    "    x: float\n",
    "    y: float\n",
    "\n",
    "# #Box contains xyxy coordinates of bounding box\n",
    "# @dataclass\n",
    "# class Box:\n",
    "#     class_id: int\n",
    "#     top_left: Point\n",
    "#     bottom_right: Point\n",
    "#     box_center: Point = None"
   ]
  },
  {
   "cell_type": "code",
   "execution_count": 39,
   "metadata": {},
   "outputs": [],
   "source": [
    "from math import sqrt\n",
    "\n",
    "def get_distance(point1 : Point, point2: Point):\n",
    "    return sqrt((point1.x-point2.x)**2 + (point1.y-point2.y)**2)\n",
    "\n",
    "def make_vector(point_begin : Point, point_end: Point):\n",
    "    vector_x = point_end.x - point_begin.x\n",
    "    vector_y = point_end.y - point_begin.y\n",
    "    vector = np.array([vector_x,vector_y])\n",
    "    return vector"
   ]
  },
  {
   "cell_type": "markdown",
   "metadata": {},
   "source": [
    "# Camera Acquisition"
   ]
  },
  {
   "cell_type": "markdown",
   "metadata": {},
   "source": [
    "## Iniatialize Camera"
   ]
  },
  {
   "cell_type": "code",
   "execution_count": 40,
   "metadata": {},
   "outputs": [],
   "source": [
    "# import ids_peak.ids_peak as ids_peak\n",
    "\n",
    "# ids_peak.Library.Initialize()\n",
    "# device_manager = ids_peak.DeviceManager.Instance()\n",
    "# device_manager.Update()\n",
    "# device_descriptors = device_manager.Devices()\n",
    "\n",
    "# print(\"Found Devices: \" + str(len(device_descriptors)))\n",
    "# for device_descriptor in device_descriptors:\n",
    "#     print(device_descriptor.DisplayName())"
   ]
  },
  {
   "cell_type": "markdown",
   "metadata": {},
   "source": [
    "## Open Camera\n"
   ]
  },
  {
   "cell_type": "code",
   "execution_count": 41,
   "metadata": {},
   "outputs": [],
   "source": [
    "# device = device_descriptors[0].OpenDevice(ids_peak.DeviceAccessType_Control)\n",
    "# print(\"Opened Device: \" + device.DisplayName())\n",
    "# remote_device_nodemap = device.RemoteDevice().NodeMaps()[0]"
   ]
  },
  {
   "cell_type": "code",
   "execution_count": 42,
   "metadata": {},
   "outputs": [],
   "source": [
    "# remote_device_nodemap.FindNode(\"TriggerSelector\").SetCurrentEntry(\"ExposureStart\")\n",
    "# remote_device_nodemap.FindNode(\"TriggerSource\").SetCurrentEntry(\"Software\")\n",
    "# remote_device_nodemap.FindNode(\"TriggerMode\").SetCurrentEntry(\"On\")"
   ]
  },
  {
   "cell_type": "markdown",
   "metadata": {},
   "source": [
    "## Start Acquisition"
   ]
  },
  {
   "cell_type": "code",
   "execution_count": 43,
   "metadata": {},
   "outputs": [],
   "source": [
    "# datastream = device.DataStreams()[0].OpenDataStream()\n",
    "# payload_size = remote_device_nodemap.FindNode(\"PayloadSize\").Value()\n",
    "# for i in range(datastream.NumBuffersAnnouncedMinRequired()):\n",
    "#     buffer = datastream.AllocAndAnnounceBuffer(payload_size)\n",
    "#     datastream.QueueBuffer(buffer)\n",
    "    \n",
    "# datastream.StartAcquisition()\n",
    "# remote_device_nodemap.FindNode(\"AcquisitionStart\").Execute()\n",
    "# remote_device_nodemap.FindNode(\"AcquisitionStart\").WaitUntilDone()"
   ]
  },
  {
   "cell_type": "markdown",
   "metadata": {},
   "source": [
    "## Exposure Control"
   ]
  },
  {
   "cell_type": "markdown",
   "metadata": {},
   "source": [
    "Basically brightness control"
   ]
  },
  {
   "cell_type": "code",
   "execution_count": 44,
   "metadata": {},
   "outputs": [],
   "source": [
    "#remote_device_nodemap.FindNode(\"ExposureTime\").SetValue(5000) # in microseconds"
   ]
  },
  {
   "cell_type": "markdown",
   "metadata": {},
   "source": [
    "## Acquire Single Frame"
   ]
  },
  {
   "cell_type": "code",
   "execution_count": 45,
   "metadata": {},
   "outputs": [],
   "source": [
    "# # trigger image\n",
    "# remote_device_nodemap.FindNode(\"TriggerSoftware\").Execute()\n",
    "# buffer = datastream.WaitForFinishedBuffer(1000)\n",
    "\n",
    "# # convert to RGB\n",
    "# import ids_peak_ipl.ids_peak_ipl as ids_ipl\n",
    "# import ids_peak.ids_peak_ipl_extension as ids_ipl_extension\n",
    "# raw_image = ids_ipl_extension.BufferToImage(buffer)\n",
    "# # for Peak version 2.0.1 and lower, use this function instead of the previous line:\n",
    "# #raw_image = ids_ipl.Image_CreateFromSizeAndBuffer(buffer.PixelFormat(), buffer.BasePtr(), buffer.Size(), buffer.Width(), buffer.Height())\n",
    "# color_image = raw_image.ConvertTo(ids_ipl.PixelFormatName_RGB8)\n",
    "# datastream.QueueBuffer(buffer)\n",
    "\n",
    "# import numpy as np\n",
    "# picture = color_image.get_numpy_3D()\n",
    "\n",
    "# # display the image\n",
    "# from matplotlib import pyplot as plt\n",
    "# plt.figure(figsize = (15,15))\n",
    "# plt.imshow(picture)"
   ]
  },
  {
   "cell_type": "code",
   "execution_count": 46,
   "metadata": {},
   "outputs": [],
   "source": [
    "\n",
    "# ids_peak.Library.Close()"
   ]
  },
  {
   "cell_type": "code",
   "execution_count": 47,
   "metadata": {},
   "outputs": [],
   "source": [
    "# import cv2\n",
    "# #gray_image = cv2.cvtColor(picture, cv2.COLOR_RGB2GRAY)\n",
    "# cv2.imshow(\"Neubauer Chamber\", picture)\n",
    "\n",
    "# cv2.waitKey(0)\n",
    "# cv2.destroyAllWindows()"
   ]
  },
  {
   "cell_type": "markdown",
   "metadata": {},
   "source": [
    "# Camera Single Function"
   ]
  },
  {
   "cell_type": "code",
   "execution_count": 48,
   "metadata": {},
   "outputs": [],
   "source": [
    "# import the necessary packages\n",
    "from imutils import perspective\n",
    "from imutils import contours\n",
    "import numpy as np\n",
    "from matplotlib import pyplot as plt\n",
    "import imutils\n",
    "import cv2\n",
    "import ids_peak.ids_peak as ids_peak\n",
    "import ids_peak_ipl.ids_peak_ipl as ids_ipl\n",
    "import ids_peak.ids_peak_ipl_extension as ids_ipl_extension\n",
    "\n",
    "def get_image():\n",
    "    try:\n",
    "        # Initialize the IDS peak API\n",
    "        ids_peak.Library.Initialize()\n",
    "\n",
    "        # Create a device manager instance\n",
    "        device_manager = ids_peak.DeviceManager.Instance()\n",
    "\n",
    "        # Update the device list\n",
    "        device_manager.Update()\n",
    "\n",
    "        device_descriptor = device_manager.Devices()\n",
    "\n",
    "        # Get the first available camera device\n",
    "        camera = device_descriptor[0].OpenDevice(ids_peak.DeviceAccessType_Control)\n",
    "    \n",
    "        remote_device_nodemap = camera.RemoteDevice().NodeMaps()[0]\n",
    "        \n",
    "        #Set to single frame mode\n",
    "        #remote_device_nodemap.FindNode(\"AcquisitionMode\").SetCurrentEntry(\"SingleFrame\")\n",
    "        \n",
    "        remote_device_nodemap.FindNode(\"TriggerSelector\").SetCurrentEntry(\"ExposureStart\")\n",
    "        remote_device_nodemap.FindNode(\"TriggerSource\").SetCurrentEntry(\"Software\")\n",
    "        remote_device_nodemap.FindNode(\"TriggerMode\").SetCurrentEntry(\"On\")\n",
    "        \n",
    "        \n",
    "        \n",
    "        #---------------------------------------------------#\n",
    "        # Set to continuous acquisition mode (trigger mode can be set as needed)\n",
    "        datastream = camera.DataStreams()[0].OpenDataStream()\n",
    "\n",
    "        payload_size = remote_device_nodemap.FindNode(\"PayloadSize\").Value()\n",
    "        for i in range(datastream.NumBuffersAnnouncedMinRequired()):\n",
    "            buffer = datastream.AllocAndAnnounceBuffer(payload_size)\n",
    "            datastream.QueueBuffer(buffer)\n",
    "\n",
    "        # print(range(datastream.NumBuffersAnnouncedMinRequired()))\n",
    "        #---------------------------------------------------#\n",
    "\n",
    "        datastream.StartAcquisition()\n",
    "        remote_device_nodemap.FindNode(\"AcquisitionStart\").Execute()\n",
    "        remote_device_nodemap.FindNode(\"AcquisitionStart\").WaitUntilDone()\n",
    "        remote_device_nodemap.FindNode(\"ExposureTime\").SetValue(5000) # in microseconds\n",
    "        # Retrieve the stream and start it\n",
    "\n",
    "\n",
    "        remote_device_nodemap.FindNode(\"TriggerSoftware\").Execute()\n",
    "\n",
    "        # Get a single image\n",
    "        buffer = datastream.WaitForFinishedBuffer(1000)  # Timeout of 5000ms (5 seconds)\n",
    "        image_data = ids_ipl_extension.BufferToImage(buffer)\n",
    "        mono_image = image_data.ConvertTo(ids_ipl.PixelFormatName_RGB8)\n",
    "        image_np = mono_image.get_numpy_3D()\n",
    "        # Display the captured image using OpenCV\n",
    "        datastream.QueueBuffer(buffer) # Return buffer to the queue\n",
    "        \n",
    "        #Copy image to keep data, otherwise if buffer closes then no more data available\n",
    "        image = image_np.copy()\n",
    "        \n",
    "        #====DEBUG====#\n",
    "        #print(image.shape)\n",
    "        #showImgcv2(image_np)\n",
    "        \n",
    "    except Exception as e:\n",
    "        print(f\"An error occurred: {e}\")\n",
    "\n",
    "    finally:\n",
    "\n",
    "        # Release the resources\n",
    "        \n",
    "        ids_peak.Library.Close()\n",
    "    if image is not None:    \n",
    "        return image\n",
    "           \n",
    "\n",
    "\n",
    "new_image = get_image()\n",
    "showImgcv2(new_image)\n"
   ]
  },
  {
   "cell_type": "markdown",
   "metadata": {},
   "source": [
    "# Corner Detection\n"
   ]
  },
  {
   "cell_type": "markdown",
   "metadata": {},
   "source": [
    "Using OpenCV to perform edge detection and find corner coordinates of Neubauer chamber"
   ]
  },
  {
   "cell_type": "code",
   "execution_count": 64,
   "metadata": {},
   "outputs": [],
   "source": [
    "# load the image, convert it to grayscale, and blur it slightly\n",
    "#image = cv2.imread(\"./Microscope/Neubauer4.png\")\n",
    "def get_corner(img):\n",
    "\n",
    "    gray = cv2.cvtColor(img, cv2.COLOR_BGR2GRAY)\n",
    "    gray = cv2.GaussianBlur(img, (7, 7), 0)\n",
    "\n",
    "    # perform edge detection, then perform a dilation + erosion to\n",
    "    # close gaps in between object edges\n",
    "    edged = cv2.Canny(gray, 50, 100)\n",
    "    edged = cv2.dilate(edged, None, iterations=1)\n",
    "    edged = cv2.erode(edged, None, iterations=1)\n",
    "\n",
    "    # find contours in the edge map\n",
    "    cnts = cv2.findContours(edged, cv2.RETR_EXTERNAL, cv2.CHAIN_APPROX_SIMPLE)[0]\n",
    "    #orig = img.copy()\n",
    "    # loop over the contours individually\n",
    "    box = None\n",
    "    for c in cnts:\n",
    "        # This is to ignore that small hair countour which is not big enough\n",
    "        if cv2.contourArea(c) < 20000: #High res, 2000 filters everything, low res 10000\n",
    "            continue\n",
    "\n",
    "        # compute the rotated bounding box of the contour\n",
    "        box = cv2.minAreaRect(c)\n",
    "        box = cv2.cv.BoxPoints(box) if imutils.is_cv2() else cv2.boxPoints(box)\n",
    "        box = np.array(box, dtype=\"int\")\n",
    "\n",
    "        # order the points in the contour such that they appear\n",
    "        # in top-left, top-right, bottom-right, and bottom-left\n",
    "        # order (CLOCKWISE), then draw the outline of the rotated \n",
    "        # boundingbox\n",
    "        box = perspective.order_points(box)\n",
    "        # draw the contours on the image\n",
    "        \n",
    "        cv2.drawContours(img, [box.astype(\"int\")], -1, (0, 255, 0), 5)\n",
    "        #print(box)\n",
    "        \n",
    "        # loop over the original points\n",
    "        color_list = [(0,0,255),(255,0,0),(0,0,0),(255,0,255)]\n",
    "        for num, (xA, yA) in enumerate(list(box)):\n",
    "            # draw circles corresponding to the current points and\n",
    "            cv2.circle(img, (int(xA), int(yA)), 9, color_list[num], -1)\n",
    "            cv2.putText(img, \"({},{})\".format(xA, yA), (int(xA - 50), int(yA - 10) - 20),\n",
    "                cv2.FONT_HERSHEY_SIMPLEX, 1.8,  color_list[num], 5)\n",
    "\n",
    "            # show the output image, resize it as per your requirements\n",
    "            #cv2.imshow(\"Image\", cv2.resize(img,(960,600))) \n",
    "\n",
    "        cv2.waitKey(0)\n",
    "\n",
    "        if cv2.waitKey(0) & 0xFF == ord('q'):\n",
    "            cv2.destroyAllWindows()\n",
    "    #print(box)\n",
    "    if box is not None:\n",
    "        return box"
   ]
  },
  {
   "cell_type": "code",
   "execution_count": 50,
   "metadata": {},
   "outputs": [
    {
     "name": "stdout",
     "output_type": "stream",
     "text": [
      "[[ 446.  581.]\n",
      " [ 960.  591.]\n",
      " [ 949. 1105.]\n",
      " [ 436. 1094.]]\n"
     ]
    }
   ],
   "source": [
    "box = get_corner(new_image)\n"
   ]
  },
  {
   "cell_type": "markdown",
   "metadata": {},
   "source": [
    "# Extract center of picture (center of screen)"
   ]
  },
  {
   "cell_type": "code",
   "execution_count": 70,
   "metadata": {},
   "outputs": [],
   "source": [
    "def get_center(img):\n",
    "    height, width, _ = img.shape\n",
    "\n",
    "    center = Point(\"center\",width//2, height//2)\n",
    "\n",
    "    #print(center)\n",
    "    color_center = (0,153,0)\n",
    "\n",
    "    cv2.circle(img, (center.x, center.y), 9, color_center, -1)\n",
    "    cv2.putText(img, \"({},{})\".format(center.x, center.y), (int(center.x + 25), int(center.y + 25)),\n",
    "                cv2.FONT_HERSHEY_SIMPLEX, 1.8, color_center, 5)\n",
    "\n",
    "    #showImgcv2(img)\n",
    "    #showImgplt(orig)\n",
    "    return center\n"
   ]
  },
  {
   "cell_type": "code",
   "execution_count": 68,
   "metadata": {},
   "outputs": [
    {
     "data": {
      "text/plain": [
       "Point(name='center', x=960, y=600)"
      ]
     },
     "execution_count": 68,
     "metadata": {},
     "output_type": "execute_result"
    }
   ],
   "source": [
    "get_center(new_image)"
   ]
  },
  {
   "cell_type": "markdown",
   "metadata": {},
   "source": [
    "# Calculate shifting vector"
   ]
  },
  {
   "cell_type": "markdown",
   "metadata": {},
   "source": [
    "Goal is to move point P towards center C --> Vector PC is required"
   ]
  },
  {
   "cell_type": "markdown",
   "metadata": {},
   "source": [
    "For example, we want to move bottom right corner of Neubauer chamber on picture towards center"
   ]
  },
  {
   "cell_type": "code",
   "execution_count": 53,
   "metadata": {},
   "outputs": [
    {
     "name": "stdout",
     "output_type": "stream",
     "text": [
      "[array([446., 581.], dtype=float32), array([960., 591.], dtype=float32), array([ 949., 1105.], dtype=float32), array([ 436., 1094.], dtype=float32)]\n",
      "(4, 2)\n"
     ]
    }
   ],
   "source": [
    "#====DEBUG====#\n",
    "if box is not None: \n",
    "    print(list(box))\n",
    "    print(box.shape)\n"
   ]
  },
  {
   "cell_type": "code",
   "execution_count": 54,
   "metadata": {},
   "outputs": [
    {
     "name": "stdout",
     "output_type": "stream",
     "text": [
      "top left: [446. 581.]\n",
      "top right: [960. 591.]\n",
      "bottom right: [ 949. 1105.]\n",
      "bottom left: [ 436. 1094.]\n"
     ]
    }
   ],
   "source": [
    "if box is not None:    \n",
    "    corner_list = ['top left', 'top right', 'bottom right', 'bottom left']\n",
    "    for num,coord in enumerate(list(box)):\n",
    "        print(f'{corner_list[num]}: {box[num]}')"
   ]
  },
  {
   "cell_type": "markdown",
   "metadata": {},
   "source": [
    "## Function Definition for Reusability"
   ]
  },
  {
   "cell_type": "code",
   "execution_count": 55,
   "metadata": {},
   "outputs": [
    {
     "name": "stdout",
     "output_type": "stream",
     "text": [
      "[Point(name='top left', x=446, y=581), Point(name='top right', x=960, y=591), Point(name='bottom right', x=949, y=1105), Point(name='bottom left', x=436, y=1094)]\n"
     ]
    }
   ],
   "source": [
    "def get_corner_coordinates(box):\n",
    "    if box is not None:     \n",
    "        corner_coordinates = []\n",
    "        corner_list = ['top left', 'top right', 'bottom right', 'bottom left']\n",
    "        for num,coord in enumerate(list(box)):\n",
    "            corner_coordinates.append(Point(corner_list[num],int(coord[0]),int(coord[1])))\n",
    "        return corner_coordinates\n",
    "    return None\n",
    "\n",
    "print(get_corner_coordinates(box))"
   ]
  },
  {
   "cell_type": "markdown",
   "metadata": {},
   "source": [
    "Generate PC vector"
   ]
  },
  {
   "cell_type": "code",
   "execution_count": 56,
   "metadata": {},
   "outputs": [
    {
     "name": "stdout",
     "output_type": "stream",
     "text": [
      "Point(name='bottom right', x=949, y=1105)\n",
      "Point(name='center', x=960, y=600)\n",
      "[  11 -505]\n"
     ]
    }
   ],
   "source": [
    "if box is not None: \n",
    "    corner_coordinates = get_corner_coordinates(box)\n",
    "    point_P = corner_coordinates[2] #Assuming we need bottom right\n",
    "    point_C = get_center(new_image)\n",
    "    print(point_P)\n",
    "    print(point_C)\n",
    "\n",
    "    vector_PC = make_vector(point_P,point_C) #Unit: pixel\n",
    "\n",
    "    print(vector_PC)\n"
   ]
  },
  {
   "cell_type": "markdown",
   "metadata": {},
   "source": [
    "# Convert to motor movement"
   ]
  },
  {
   "cell_type": "markdown",
   "metadata": {},
   "source": [
    "Based on coordinate system of stage, camera and opencv2, the direction of the image being moved is opposite direction in X of stage (multiply by -1), same in Y"
   ]
  },
  {
   "cell_type": "code",
   "execution_count": 57,
   "metadata": {},
   "outputs": [],
   "source": [
    "PPMM = 170.65 #1920x1200 with sensor size of 11.251mm x 7.032 so PPM can be acquire either \n",
    "              #via Neubauer chamber or simply 1920 / 11.251 = 170.65\n",
    "STEP_PER_MM = 533.33 #Step/mm for 1/4 microstepping"
   ]
  },
  {
   "cell_type": "code",
   "execution_count": 58,
   "metadata": {},
   "outputs": [
    {
     "name": "stdout",
     "output_type": "stream",
     "text": [
      "[  -34 -1578]\n"
     ]
    }
   ],
   "source": [
    "  \n",
    "try:\n",
    "    vector_motorDir = np.array([-vector_PC[0],vector_PC[1]])\n",
    "    vector_PC_inSteps = np.array(vector_motorDir*STEP_PER_MM/PPMM,dtype='int')\n",
    "\n",
    "    print(vector_PC_inSteps)\n",
    "except Exception as e:\n",
    "    print(f\"Error: {e}\")\n"
   ]
  },
  {
   "cell_type": "code",
   "execution_count": 59,
   "metadata": {},
   "outputs": [],
   "source": [
    "def wholeProcess(i = 2):\n",
    "    new_image = get_image()\n",
    "    box = get_corner(new_image)\n",
    "    corner = get_corner_coordinates(box)\n",
    "    \n",
    "    if corner is not None:\n",
    "\n",
    "        point_P = corner[i] #Assuming we need bottom right\n",
    "        point_C = get_center(new_image)\n",
    "        \n",
    "        #print(point_P)\n",
    "        #print(point_C)\n",
    "\n",
    "        vector_PC = make_vector(point_P,point_C) #Unit: pixel\n",
    "\n",
    "        #print(vector_PC)\n",
    "\n",
    "        vector_motorDir = np.array([-vector_PC[0],vector_PC[1]])\n",
    "        vector_PC_inSteps = np.array(vector_motorDir*STEP_PER_MM/PPMM,dtype='int')\n",
    "\n",
    "        #print(vector_PC_inSteps)\n",
    "\n",
    "        return vector_PC_inSteps\n",
    "    return None\n",
    "\n",
    "\n",
    "  "
   ]
  },
  {
   "cell_type": "code",
   "execution_count": 60,
   "metadata": {},
   "outputs": [
    {
     "name": "stdout",
     "output_type": "stream",
     "text": [
      "[[ 446.  581.]\n",
      " [ 959.  591.]\n",
      " [ 949. 1105.]\n",
      " [ 436. 1095.]]\n",
      "[  -34 -1578]\n"
     ]
    }
   ],
   "source": [
    "print(wholeProcess())"
   ]
  },
  {
   "cell_type": "markdown",
   "metadata": {},
   "source": [
    "# Send to Arduino"
   ]
  },
  {
   "cell_type": "markdown",
   "metadata": {},
   "source": [
    "Initial steps towards bottom right corner is X: 42290 steps, Y: 69340 steps"
   ]
  },
  {
   "cell_type": "code",
   "execution_count": 61,
   "metadata": {},
   "outputs": [],
   "source": [
    "def scriptBox(i = 2):\n",
    "    pic = get_image()\n",
    "    temp_corner = get_corner(pic)\n",
    "    temp_corner_coordinates = get_corner_coordinates(temp_corner)\n",
    "    center = get_center(pic)\n",
    "    showImgcv2(pic)\n",
    "    delta_e = get_distance(center,temp_corner_coordinates[i]) #corner coordinates depends on which corner of the grid is taken \n",
    "                                                            #0 - top left, 1 - top right, 2 - bottom right, 3 - bottom left\n",
    "    #delta_vector = make_vector(center, temp_corner_coordinates[i])\n",
    "    print(\"Distance between center and corner[%s]: %s px\" % (i,delta_e))\n",
    "    #print(\"Vector of center to corner in px: %s\" % delta_vector)"
   ]
  },
  {
   "cell_type": "code",
   "execution_count": 72,
   "metadata": {},
   "outputs": [
    {
     "name": "stdout",
     "output_type": "stream",
     "text": [
      "b''\n",
      "Sent coordinates: <-6,25>\n",
      "Distance between center and corner[2]: 0.0 px\n",
      "Sent coordinates: <-1603,31>\n",
      "Distance between center and corner[3]: 9.219544457292887 px\n",
      "Sent coordinates: <34,1584>\n",
      "Distance between center and corner[0]: 5.385164807134504 px\n",
      "Sent coordinates: <1590,-37>\n",
      "Distance between center and corner[1]: 9.848857801796104 px\n",
      "Sent coordinates: <-34,-1578>\n",
      "Distance between center and corner[2]: 5.830951894845301 px\n",
      "b''\n",
      "Sent coordinates: <12,3>\n",
      "Distance between center and corner[2]: 1.0 px\n",
      "Sent coordinates: <-1603,34>\n",
      "Distance between center and corner[3]: 10.0 px\n",
      "Sent coordinates: <34,1581>\n",
      "Distance between center and corner[0]: 5.0990195135927845 px\n",
      "Sent coordinates: <1590,-40>\n",
      "Distance between center and corner[1]: 10.295630140987 px\n",
      "Sent coordinates: <-34,-1578>\n",
      "Distance between center and corner[2]: 7.810249675906654 px\n",
      "b''\n",
      "Sent coordinates: <18,0>\n",
      "Distance between center and corner[2]: 1.4142135623730951 px\n",
      "Sent coordinates: <-1606,37>\n",
      "Distance between center and corner[3]: 11.40175425099138 px\n",
      "Sent coordinates: <31,1581>\n",
      "Distance between center and corner[0]: 4.47213595499958 px\n",
      "Sent coordinates: <1593,-40>\n",
      "Distance between center and corner[1]: 8.94427190999916 px\n",
      "Sent coordinates: <-34,-1578>\n",
      "Distance between center and corner[2]: 5.0 px\n",
      "b''\n",
      "Sent coordinates: <15,3>\n",
      "Distance between center and corner[2]: 0.0 px\n",
      "Sent coordinates: <-1606,34>\n",
      "Distance between center and corner[3]: 10.816653826391969 px\n",
      "Sent coordinates: <31,1581>\n",
      "Distance between center and corner[0]: 4.47213595499958 px\n",
      "Sent coordinates: <1593,-40>\n",
      "Distance between center and corner[1]: 9.433981132056603 px\n",
      "Sent coordinates: <-34,-1578>\n",
      "Distance between center and corner[2]: 5.0 px\n",
      "b''\n",
      "Sent coordinates: <15,3>\n",
      "Distance between center and corner[2]: 0.0 px\n",
      "Sent coordinates: <-1603,28>\n",
      "Distance between center and corner[3]: 9.899494936611665 px\n",
      "Sent coordinates: <28,1584>\n",
      "Distance between center and corner[0]: 4.47213595499958 px\n",
      "Sent coordinates: <1593,-40>\n",
      "Distance between center and corner[1]: 9.433981132056603 px\n",
      "Sent coordinates: <-34,-1575>\n",
      "Distance between center and corner[2]: 5.830951894845301 px\n",
      "b''\n",
      "Sent coordinates: <15,3>\n",
      "Distance between center and corner[2]: 1.0 px\n",
      "Sent coordinates: <-1603,28>\n",
      "Distance between center and corner[3]: 10.63014581273465 px\n",
      "Sent coordinates: <31,1587>\n",
      "Distance between center and corner[0]: 5.385164807134504 px\n",
      "Sent coordinates: <1590,-40>\n",
      "Distance between center and corner[1]: 8.602325267042627 px\n",
      "Sent coordinates: <-31,-1578>\n",
      "Distance between center and corner[2]: 7.0710678118654755 px\n",
      "b''\n",
      "Sent coordinates: <12,3>\n",
      "Distance between center and corner[2]: 0.0 px\n",
      "Sent coordinates: <-1603,31>\n",
      "Distance between center and corner[3]: 11.313708498984761 px\n",
      "Sent coordinates: <28,1584>\n",
      "Distance between center and corner[0]: 4.123105625617661 px\n",
      "Sent coordinates: <1593,-40>\n",
      "Distance between center and corner[1]: 9.219544457292887 px\n",
      "Sent coordinates: <-31,-1578>\n",
      "Distance between center and corner[2]: 5.656854249492381 px\n",
      "b''\n"
     ]
    }
   ],
   "source": [
    "import serial\n",
    "import time\n",
    "\n",
    "# Specify the serial port and baud rate to match your Arduino\n",
    "arduino_port = 'COM7'  # Replace 'COM3' with your actual port, e.g., '/dev/ttyUSB0' for Linux\n",
    "baud_rate = 9600\n",
    "\n",
    "\n",
    "\n",
    "# Initialize the serial connection\n",
    "ser = serial.Serial(arduino_port, baud_rate, timeout=1)\n",
    "time.sleep(2)  # Allow time for the connection to initialize\n",
    "\n",
    "# Function to send data to Arduino\n",
    "def send_data_to_arduino(data):\n",
    "    # Convert the data to bytes and send\n",
    "    ser.write(data.encode())\n",
    "\n",
    "# Send some test data\n",
    "\n",
    "def send_coord(x,y):\n",
    "    coord = f\"<{x},{y}>\"\n",
    "    ser.write(coord.encode())\n",
    "    print(f\"Sent coordinates: {coord.strip()}\")\n",
    "\n",
    "try:\n",
    "    while True:  \n",
    "        dataPacket = ser.readline()\n",
    "        print(dataPacket)\n",
    "        user_input = input(\"Enter a character to send to Arduino (or type 'exit' to quit): \")\n",
    "        # dataPacket = ser.readline()\n",
    "        # print(dataPacket)\n",
    "        if user_input == 'exit':\n",
    "            break\n",
    "        elif user_input == 'c':\n",
    "            send_data_to_arduino('c')\n",
    "            user_inputX = input(\"Enter X coordinate: \")\n",
    "            user_inputY = input(\"Enter Y coordinate: \")\n",
    "            send_coord(user_inputX,user_inputY)\n",
    "        elif user_input == 'v':\n",
    "            try:\n",
    "                vectorMove = wholeProcess(2)\n",
    "                if vectorMove is not None:\n",
    "                    send_data_to_arduino('c')\n",
    "                    send_coord(int(vectorMove[0]),int(vectorMove[1]))\n",
    "                else:\n",
    "                    print(\"No input\")\n",
    "            except Exception as e:\n",
    "                print(e)\n",
    "        elif user_input == \"p\":\n",
    "            try:    \n",
    "                pic = get_image()\n",
    "                \n",
    "                temp_corner = get_corner(pic)\n",
    "                temp_corner_coordinates = get_corner_coordinates(temp_corner)\n",
    "                center = get_center(pic)\n",
    "                showImgcv2(pic)\n",
    "                delta_e = get_distance(center,temp_corner_coordinates[2]) #corner coordinates depends on which corner of the grid is taken \n",
    "                                                                        #0 - top left, 1 - top right, 2 - bottom right, 3 - bottom left\n",
    "                delta_vector = make_vector(center, temp_corner_coordinates[2])\n",
    "                print(\"Distance between center and bottom right corner: %s px\" % delta_e)\n",
    "                print(\"Vector of center to corner in px: %s\" % delta_vector)\n",
    "            except Exception as e:\n",
    "                print(e)\n",
    "        elif user_input == \"b\":\n",
    "            try:    \n",
    "                # 2 -> 3 -> 0 -> 1\n",
    "                corner_sequence = [2,3,0,1,2]\n",
    "                for corner in corner_sequence:\n",
    "                    vectorMove = wholeProcess(corner)\n",
    "                    if vectorMove is not None:\n",
    "                        send_data_to_arduino('c')\n",
    "                        send_coord(int(vectorMove[0]),int(vectorMove[1]))\n",
    "                    else:\n",
    "                        print(\"No input\")\n",
    "\n",
    "                    time.sleep(2)\n",
    "                    scriptBox(corner)\n",
    "               \n",
    "            except Exception as e:\n",
    "                print(e)\n",
    "        elif len(user_input) == 1:\n",
    "            send_data_to_arduino(user_input)\n",
    "        else:\n",
    "            print(\"Please enter valid option.\")\n",
    "        # if ser.in_waiting > 0:\n",
    "        #     response = ser.readline().decode().strip()\n",
    "        #     print(f\"Arduino response: {response}\")\n",
    "finally:\n",
    "    ser.close()  # Close the serial connection when done"
   ]
  },
  {
   "cell_type": "code",
   "execution_count": null,
   "metadata": {},
   "outputs": [],
   "source": []
  },
  {
   "cell_type": "code",
   "execution_count": null,
   "metadata": {},
   "outputs": [],
   "source": []
  },
  {
   "cell_type": "markdown",
   "metadata": {},
   "source": [
    "WASD for moving (WS: +-X, AD: +-Y)\n",
    "\n",
    "C for manual coordinates input <br>\n",
    "V for corner detection and correction<br>\n",
    "P for getting image<br>\n",
    "G for getting XY steps<br>\n",
    "H for homing<br>"
   ]
  },
  {
   "cell_type": "code",
   "execution_count": null,
   "metadata": {},
   "outputs": [],
   "source": []
  },
  {
   "attachments": {
    "image-2.png": {
     "image/png": "[encoded data removed]"
    },
    "image.png": {
     "image/png": "[encoded data removed]"
    }
   },
   "cell_type": "markdown",
   "metadata": {},
   "source": [
    "![image.png](attachment:image.png)\n",
    "![image-2.png](attachment:image-2.png)"
   ]
  }
 ],
 "metadata": {
  "kernelspec": {
   "display_name": ".venv",
   "language": "python",
   "name": "python3"
  },
  "language_info": {
   "codemirror_mode": {
    "name": "ipython",
    "version": 3
   },
   "file_extension": ".py",
   "mimetype": "text/x-python",
   "name": "python",
   "nbconvert_exporter": "python",
   "pygments_lexer": "ipython3",
   "version": "3.12.3"
  }
 },
 "nbformat": 4,
 "nbformat_minor": 2
}
